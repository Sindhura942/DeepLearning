{
  "nbformat": 4,
  "nbformat_minor": 0,
  "metadata": {
    "colab": {
      "provenance": [],
      "authorship_tag": "ABX9TyNl4yWrA9yY8PmKO9Unat/P",
      "include_colab_link": true
    },
    "kernelspec": {
      "name": "python3",
      "display_name": "Python 3"
    },
    "language_info": {
      "name": "python"
    }
  },
  "cells": [
    {
      "cell_type": "markdown",
      "metadata": {
        "id": "view-in-github",
        "colab_type": "text"
      },
      "source": [
        "<a href=\"https://colab.research.google.com/github/Sindhura942/DeepLearning/blob/main/Regression_Model_Employee_salary.ipynb\" target=\"_parent\"><img src=\"https://colab.research.google.com/assets/colab-badge.svg\" alt=\"Open In Colab\"/></a>"
      ]
    },
    {
      "cell_type": "code",
      "execution_count": null,
      "metadata": {
        "id": "Ejb7gPyyNEV5"
      },
      "outputs": [],
      "source": [
        "import pandas as pd\n",
        "import numpy as np\n",
        "import matplotlib.pyplot as plt\n",
        "from sklearn.model_selection import train_test_split\n",
        "from sklearn.preprocessing import StandardScaler\n",
        "from sklearn.metrics import r2_score ,mean_absolute_error , mean_squared_error\n",
        "import tensorflow as tf"
      ]
    },
    {
      "cell_type": "code",
      "source": [
        "data = pd.read_csv(\"Employee_Salary_Data.csv\")"
      ],
      "metadata": {
        "id": "wL70tBZUUfRI"
      },
      "execution_count": null,
      "outputs": []
    },
    {
      "cell_type": "code",
      "source": [
        "X = data['Years_Experience'].values.reshape(-1,1)\n",
        "Y = data['Annual_Salary'].values.reshape(-1,1)"
      ],
      "metadata": {
        "id": "JWNAmTD1VB2r"
      },
      "execution_count": null,
      "outputs": []
    },
    {
      "cell_type": "code",
      "source": [
        "X_train , X_test , Y_train , Y_test = train_test_split(X,Y,test_size=0.2,random_state=42)"
      ],
      "metadata": {
        "id": "lEDYpnGcaF-l"
      },
      "execution_count": null,
      "outputs": []
    },
    {
      "cell_type": "code",
      "source": [
        "X_scaler = StandardScaler()\n",
        "Y_scaler = StandardScaler()"
      ],
      "metadata": {
        "id": "7tNyiHVkcgVx"
      },
      "execution_count": null,
      "outputs": []
    },
    {
      "cell_type": "code",
      "source": [
        "X_train_scaled = X_scaler.fit_transform(X_train)\n",
        "X_test_scaled = X_scaler.transform(X_test)\n",
        "Y_train_scaled = Y_scaler.fit_transform(Y_train)\n",
        "Y_test_scaled = Y_scaler.transform(Y_test)\n"
      ],
      "metadata": {
        "id": "_Z50pfXbcliN"
      },
      "execution_count": null,
      "outputs": []
    },
    {
      "cell_type": "code",
      "source": [
        "#Building Model\n"
      ],
      "metadata": {
        "id": "S04BTv4He4cx"
      },
      "execution_count": null,
      "outputs": []
    }
  ]
}